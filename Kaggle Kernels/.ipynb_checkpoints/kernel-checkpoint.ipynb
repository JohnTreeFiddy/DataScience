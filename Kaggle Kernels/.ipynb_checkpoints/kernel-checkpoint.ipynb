{
 "cells": [
  {
   "cell_type": "code",
   "execution_count": 1,
   "metadata": {
    "_cell_guid": "1b87088b-4207-4190-a90c-6da0111bcfb6",
    "_execution_state": "idle",
    "_uuid": "025280f7b7f89bf43ccf0b0064c0ea75b157b88c",
    "collapsed": true
   },
   "outputs": [],
   "source": [
    "import pandas as pd\n",
    "import numpy as np\n",
    "%matplotlib inline\n",
    "import seaborn as sns\n",
    "import matplotlib.pyplot as plt"
   ]
  },
  {
   "cell_type": "code",
   "execution_count": 2,
   "metadata": {
    "_cell_guid": "2e4db94b-c80f-415d-ac16-07e9a28c066f",
    "_execution_state": "idle",
    "_uuid": "d8c4436c28ed9f96df86861930df5061521a9920"
   },
   "outputs": [
    {
     "name": "stdout",
     "output_type": "stream",
     "text": [
      "ls: cannot access ../input/melbourne-housing-market/Melbourne_housing_extra_data.csv: No such file or directory\r\n"
     ]
    }
   ],
   "source": [
    "!ls ../input/melbourne-housing-market/Melbourne_housing_extra_data.csv"
   ]
  },
  {
   "cell_type": "code",
   "execution_count": 3,
   "metadata": {
    "_cell_guid": "ef06cb4a-87e8-470c-9687-d65c8ce8d30a",
    "_execution_state": "idle",
    "_uuid": "f489b074a2ff694c019025508bdc5f14a0586d5f"
   },
   "outputs": [
    {
     "ename": "FileNotFoundError",
     "evalue": "File b'../input/melbourne-housing-market/Melbourne_housing_extra_data.csv' does not exist",
     "output_type": "error",
     "traceback": [
      "\u001b[0;31m---------------------------------------------------------------------------\u001b[0m",
      "\u001b[0;31mFileNotFoundError\u001b[0m                         Traceback (most recent call last)",
      "\u001b[0;32m<ipython-input-3-7a1f5955a732>\u001b[0m in \u001b[0;36m<module>\u001b[0;34m()\u001b[0m\n\u001b[0;32m----> 1\u001b[0;31m \u001b[0mdataframe\u001b[0m \u001b[0;34m=\u001b[0m  \u001b[0mpd\u001b[0m\u001b[0;34m.\u001b[0m\u001b[0mread_csv\u001b[0m\u001b[0;34m(\u001b[0m\u001b[0;34m\"../input/melbourne-housing-market/Melbourne_housing_extra_data.csv\"\u001b[0m\u001b[0;34m)\u001b[0m\u001b[0;34m\u001b[0m\u001b[0m\n\u001b[0m",
      "\u001b[0;32m/opt/conda/lib/python3.6/site-packages/pandas/io/parsers.py\u001b[0m in \u001b[0;36mparser_f\u001b[0;34m(filepath_or_buffer, sep, delimiter, header, names, index_col, usecols, squeeze, prefix, mangle_dupe_cols, dtype, engine, converters, true_values, false_values, skipinitialspace, skiprows, nrows, na_values, keep_default_na, na_filter, verbose, skip_blank_lines, parse_dates, infer_datetime_format, keep_date_col, date_parser, dayfirst, iterator, chunksize, compression, thousands, decimal, lineterminator, quotechar, quoting, escapechar, comment, encoding, dialect, tupleize_cols, error_bad_lines, warn_bad_lines, skipfooter, doublequote, delim_whitespace, low_memory, memory_map, float_precision)\u001b[0m\n\u001b[1;32m    676\u001b[0m                     skip_blank_lines=skip_blank_lines)\n\u001b[1;32m    677\u001b[0m \u001b[0;34m\u001b[0m\u001b[0m\n\u001b[0;32m--> 678\u001b[0;31m         \u001b[0;32mreturn\u001b[0m \u001b[0m_read\u001b[0m\u001b[0;34m(\u001b[0m\u001b[0mfilepath_or_buffer\u001b[0m\u001b[0;34m,\u001b[0m \u001b[0mkwds\u001b[0m\u001b[0;34m)\u001b[0m\u001b[0;34m\u001b[0m\u001b[0m\n\u001b[0m\u001b[1;32m    679\u001b[0m \u001b[0;34m\u001b[0m\u001b[0m\n\u001b[1;32m    680\u001b[0m     \u001b[0mparser_f\u001b[0m\u001b[0;34m.\u001b[0m\u001b[0m__name__\u001b[0m \u001b[0;34m=\u001b[0m \u001b[0mname\u001b[0m\u001b[0;34m\u001b[0m\u001b[0m\n",
      "\u001b[0;32m/opt/conda/lib/python3.6/site-packages/pandas/io/parsers.py\u001b[0m in \u001b[0;36m_read\u001b[0;34m(filepath_or_buffer, kwds)\u001b[0m\n\u001b[1;32m    438\u001b[0m \u001b[0;34m\u001b[0m\u001b[0m\n\u001b[1;32m    439\u001b[0m     \u001b[0;31m# Create the parser.\u001b[0m\u001b[0;34m\u001b[0m\u001b[0;34m\u001b[0m\u001b[0m\n\u001b[0;32m--> 440\u001b[0;31m     \u001b[0mparser\u001b[0m \u001b[0;34m=\u001b[0m \u001b[0mTextFileReader\u001b[0m\u001b[0;34m(\u001b[0m\u001b[0mfilepath_or_buffer\u001b[0m\u001b[0;34m,\u001b[0m \u001b[0;34m**\u001b[0m\u001b[0mkwds\u001b[0m\u001b[0;34m)\u001b[0m\u001b[0;34m\u001b[0m\u001b[0m\n\u001b[0m\u001b[1;32m    441\u001b[0m \u001b[0;34m\u001b[0m\u001b[0m\n\u001b[1;32m    442\u001b[0m     \u001b[0;32mif\u001b[0m \u001b[0mchunksize\u001b[0m \u001b[0;32mor\u001b[0m \u001b[0miterator\u001b[0m\u001b[0;34m:\u001b[0m\u001b[0;34m\u001b[0m\u001b[0m\n",
      "\u001b[0;32m/opt/conda/lib/python3.6/site-packages/pandas/io/parsers.py\u001b[0m in \u001b[0;36m__init__\u001b[0;34m(self, f, engine, **kwds)\u001b[0m\n\u001b[1;32m    785\u001b[0m             \u001b[0mself\u001b[0m\u001b[0;34m.\u001b[0m\u001b[0moptions\u001b[0m\u001b[0;34m[\u001b[0m\u001b[0;34m'has_index_names'\u001b[0m\u001b[0;34m]\u001b[0m \u001b[0;34m=\u001b[0m \u001b[0mkwds\u001b[0m\u001b[0;34m[\u001b[0m\u001b[0;34m'has_index_names'\u001b[0m\u001b[0;34m]\u001b[0m\u001b[0;34m\u001b[0m\u001b[0m\n\u001b[1;32m    786\u001b[0m \u001b[0;34m\u001b[0m\u001b[0m\n\u001b[0;32m--> 787\u001b[0;31m         \u001b[0mself\u001b[0m\u001b[0;34m.\u001b[0m\u001b[0m_make_engine\u001b[0m\u001b[0;34m(\u001b[0m\u001b[0mself\u001b[0m\u001b[0;34m.\u001b[0m\u001b[0mengine\u001b[0m\u001b[0;34m)\u001b[0m\u001b[0;34m\u001b[0m\u001b[0m\n\u001b[0m\u001b[1;32m    788\u001b[0m \u001b[0;34m\u001b[0m\u001b[0m\n\u001b[1;32m    789\u001b[0m     \u001b[0;32mdef\u001b[0m \u001b[0mclose\u001b[0m\u001b[0;34m(\u001b[0m\u001b[0mself\u001b[0m\u001b[0;34m)\u001b[0m\u001b[0;34m:\u001b[0m\u001b[0;34m\u001b[0m\u001b[0m\n",
      "\u001b[0;32m/opt/conda/lib/python3.6/site-packages/pandas/io/parsers.py\u001b[0m in \u001b[0;36m_make_engine\u001b[0;34m(self, engine)\u001b[0m\n\u001b[1;32m   1012\u001b[0m     \u001b[0;32mdef\u001b[0m \u001b[0m_make_engine\u001b[0m\u001b[0;34m(\u001b[0m\u001b[0mself\u001b[0m\u001b[0;34m,\u001b[0m \u001b[0mengine\u001b[0m\u001b[0;34m=\u001b[0m\u001b[0;34m'c'\u001b[0m\u001b[0;34m)\u001b[0m\u001b[0;34m:\u001b[0m\u001b[0;34m\u001b[0m\u001b[0m\n\u001b[1;32m   1013\u001b[0m         \u001b[0;32mif\u001b[0m \u001b[0mengine\u001b[0m \u001b[0;34m==\u001b[0m \u001b[0;34m'c'\u001b[0m\u001b[0;34m:\u001b[0m\u001b[0;34m\u001b[0m\u001b[0m\n\u001b[0;32m-> 1014\u001b[0;31m             \u001b[0mself\u001b[0m\u001b[0;34m.\u001b[0m\u001b[0m_engine\u001b[0m \u001b[0;34m=\u001b[0m \u001b[0mCParserWrapper\u001b[0m\u001b[0;34m(\u001b[0m\u001b[0mself\u001b[0m\u001b[0;34m.\u001b[0m\u001b[0mf\u001b[0m\u001b[0;34m,\u001b[0m \u001b[0;34m**\u001b[0m\u001b[0mself\u001b[0m\u001b[0;34m.\u001b[0m\u001b[0moptions\u001b[0m\u001b[0;34m)\u001b[0m\u001b[0;34m\u001b[0m\u001b[0m\n\u001b[0m\u001b[1;32m   1015\u001b[0m         \u001b[0;32melse\u001b[0m\u001b[0;34m:\u001b[0m\u001b[0;34m\u001b[0m\u001b[0m\n\u001b[1;32m   1016\u001b[0m             \u001b[0;32mif\u001b[0m \u001b[0mengine\u001b[0m \u001b[0;34m==\u001b[0m \u001b[0;34m'python'\u001b[0m\u001b[0;34m:\u001b[0m\u001b[0;34m\u001b[0m\u001b[0m\n",
      "\u001b[0;32m/opt/conda/lib/python3.6/site-packages/pandas/io/parsers.py\u001b[0m in \u001b[0;36m__init__\u001b[0;34m(self, src, **kwds)\u001b[0m\n\u001b[1;32m   1706\u001b[0m         \u001b[0mkwds\u001b[0m\u001b[0;34m[\u001b[0m\u001b[0;34m'usecols'\u001b[0m\u001b[0;34m]\u001b[0m \u001b[0;34m=\u001b[0m \u001b[0mself\u001b[0m\u001b[0;34m.\u001b[0m\u001b[0musecols\u001b[0m\u001b[0;34m\u001b[0m\u001b[0m\n\u001b[1;32m   1707\u001b[0m \u001b[0;34m\u001b[0m\u001b[0m\n\u001b[0;32m-> 1708\u001b[0;31m         \u001b[0mself\u001b[0m\u001b[0;34m.\u001b[0m\u001b[0m_reader\u001b[0m \u001b[0;34m=\u001b[0m \u001b[0mparsers\u001b[0m\u001b[0;34m.\u001b[0m\u001b[0mTextReader\u001b[0m\u001b[0;34m(\u001b[0m\u001b[0msrc\u001b[0m\u001b[0;34m,\u001b[0m \u001b[0;34m**\u001b[0m\u001b[0mkwds\u001b[0m\u001b[0;34m)\u001b[0m\u001b[0;34m\u001b[0m\u001b[0m\n\u001b[0m\u001b[1;32m   1709\u001b[0m \u001b[0;34m\u001b[0m\u001b[0m\n\u001b[1;32m   1710\u001b[0m         \u001b[0mpassed_names\u001b[0m \u001b[0;34m=\u001b[0m \u001b[0mself\u001b[0m\u001b[0;34m.\u001b[0m\u001b[0mnames\u001b[0m \u001b[0;32mis\u001b[0m \u001b[0;32mNone\u001b[0m\u001b[0;34m\u001b[0m\u001b[0m\n",
      "\u001b[0;32mpandas/_libs/parsers.pyx\u001b[0m in \u001b[0;36mpandas._libs.parsers.TextReader.__cinit__\u001b[0;34m()\u001b[0m\n",
      "\u001b[0;32mpandas/_libs/parsers.pyx\u001b[0m in \u001b[0;36mpandas._libs.parsers.TextReader._setup_parser_source\u001b[0;34m()\u001b[0m\n",
      "\u001b[0;31mFileNotFoundError\u001b[0m: File b'../input/melbourne-housing-market/Melbourne_housing_extra_data.csv' does not exist"
     ]
    }
   ],
   "source": [
    "dataframe =  pd.read_csv(\"../input/melbourne-housing-market/Melbourne_housing_extra_data.csv\")"
   ]
  },
  {
   "cell_type": "code",
   "execution_count": 4,
   "metadata": {
    "_cell_guid": "7ea1b85c-6f03-414f-a97c-3ce6d2b2420f",
    "_execution_state": "idle",
    "_uuid": "61421edf501324e97dbefc0c9b3702446fa691ab"
   },
   "outputs": [
    {
     "ename": "NameError",
     "evalue": "name 'dataframe' is not defined",
     "output_type": "error",
     "traceback": [
      "\u001b[0;31m---------------------------------------------------------------------------\u001b[0m",
      "\u001b[0;31mNameError\u001b[0m                                 Traceback (most recent call last)",
      "\u001b[0;32m<ipython-input-4-a7a1b870529c>\u001b[0m in \u001b[0;36m<module>\u001b[0;34m()\u001b[0m\n\u001b[0;32m----> 1\u001b[0;31m \u001b[0mdataframe\u001b[0m\u001b[0;34m.\u001b[0m\u001b[0mdtypes\u001b[0m\u001b[0;34m\u001b[0m\u001b[0m\n\u001b[0m",
      "\u001b[0;31mNameError\u001b[0m: name 'dataframe' is not defined"
     ]
    }
   ],
   "source": [
    "dataframe.dtypes"
   ]
  },
  {
   "cell_type": "code",
   "execution_count": null,
   "metadata": {
    "_cell_guid": "e619ce1a-97cb-47b7-922a-208b2c18062d",
    "_execution_state": "idle",
    "_uuid": "d7a0b4375a1db2cd1db366a4eb809d818d83503e",
    "collapsed": true
   },
   "outputs": [],
   "source": [
    "dataframe.head()\n",
    "\n"
   ]
  },
  {
   "cell_type": "code",
   "execution_count": null,
   "metadata": {
    "_cell_guid": "b7259253-ab89-4f60-bb07-d9deb216fd97",
    "_execution_state": "idle",
    "_uuid": "f1368771c215b949e3aaa964fee530c11ad1ed9c",
    "collapsed": true
   },
   "outputs": [],
   "source": [
    "dataframe[\"Date\"] = pd.to_datetime(dataframe[\"Date\"],dayfirst=True)"
   ]
  },
  {
   "cell_type": "code",
   "execution_count": null,
   "metadata": {
    "_cell_guid": "71ca687e-e128-4af9-8f60-dd45a72afdd4",
    "_execution_state": "idle",
    "_uuid": "bb65e134ea132d4a524ccd97d6ad8998d3cab9c2",
    "collapsed": true
   },
   "outputs": [],
   "source": [
    "len(dataframe[\"Date\"].unique())/4\n",
    "##12 Means a year of Data!"
   ]
  },
  {
   "cell_type": "code",
   "execution_count": null,
   "metadata": {
    "_cell_guid": "12940aba-3477-4951-8939-6d8bc7b2de74",
    "_execution_state": "idle",
    "_uuid": "ea22cdbd6689f896389251158a4b42ec5a88258e",
    "collapsed": true
   },
   "outputs": [],
   "source": [
    "var = dataframe[dataframe[\"Type\"]==\"h\"].sort_values(\"Date\", ascending=False).groupby(\"Date\").std()\n",
    "count = dataframe[dataframe[\"Type\"]==\"h\"].sort_values(\"Date\", ascending=False).groupby(\"Date\").count()\n",
    "mean = dataframe[dataframe[\"Type\"]==\"h\"].sort_values(\"Date\", ascending=False).groupby(\"Date\").mean()"
   ]
  },
  {
   "cell_type": "code",
   "execution_count": null,
   "metadata": {
    "_cell_guid": "bca2af3b-9c93-476b-8094-79e71197ecfc",
    "_execution_state": "idle",
    "_uuid": "37aac47198f93dcd8b7972a12cd7d344e66eab0f",
    "collapsed": true
   },
   "outputs": [],
   "source": [
    "mean[\"Price\"].plot(yerr=var[\"Price\"],ylim=(400000,1500000))\n"
   ]
  },
  {
   "cell_type": "code",
   "execution_count": null,
   "metadata": {
    "_cell_guid": "ccb262a7-5193-4a62-977e-a458e2a87e5f",
    "_execution_state": "idle",
    "_uuid": "4cac60c8cf13e4ab27bae58bc493aa5c6f891e07",
    "collapsed": true
   },
   "outputs": [],
   "source": [
    "means = dataframe[(dataframe[\"Type\"]==\"h\") & (dataframe[\"Distance\"]<13)].sort_values(\"Date\", ascending=False).groupby(\"Date\").mean()\n",
    "errors = dataframe[(dataframe[\"Type\"]==\"h\") & (dataframe[\"Distance\"]<13)].sort_values(\"Date\", ascending=False).groupby(\"Date\").std()\n"
   ]
  },
  {
   "cell_type": "code",
   "execution_count": null,
   "metadata": {
    "_cell_guid": "8e522014-d721-41a3-a100-520470244338",
    "_execution_state": "idle",
    "_uuid": "161a8a0708600b5ab3e3da0bd7bf818d083b76f9",
    "collapsed": true
   },
   "outputs": [],
   "source": [
    "means.columns"
   ]
  },
  {
   "cell_type": "code",
   "execution_count": null,
   "metadata": {
    "_cell_guid": "68d3d7f5-066f-4cbb-96dc-305b72ba0826",
    "_execution_state": "idle",
    "_uuid": "9991fc29c3a8c90e589f84b78a70c3bd5b3474c2",
    "collapsed": true
   },
   "outputs": [],
   "source": [
    "#fig, ax = plt.subplots()\n",
    "means.drop([\"Price\",\n",
    "            \"Postcode\",\n",
    "            \n",
    "           \"Longtitude\",\"Lattitude\",\n",
    "           \"Distance\",\"BuildingArea\", \"Propertycount\",\"Landsize\",\"YearBuilt\"],axis=1).plot(yerr=errors)"
   ]
  },
  {
   "cell_type": "code",
   "execution_count": null,
   "metadata": {
    "_cell_guid": "d0be46c6-715c-4c1b-951e-ed2152d1c7fa",
    "_execution_state": "idle",
    "_uuid": "639e473ed27a0beafcefa750872e082689db14a6",
    "collapsed": true
   },
   "outputs": [],
   "source": [
    "dataframe[dataframe[\"Type\"]==\"h\"].sort_values(\"Date\", ascending=False).groupby(\"Date\").mean()"
   ]
  },
  {
   "cell_type": "code",
   "execution_count": null,
   "metadata": {
    "_cell_guid": "b32b176d-a591-4205-b048-209132786352",
    "_execution_state": "idle",
    "_uuid": "170199db85b1ae184ebef8bd0c3728135d6aad05",
    "collapsed": true
   },
   "outputs": [],
   "source": [
    "pd.set_eng_float_format(accuracy=1, use_eng_prefix=True)\n",
    "dataframe[(dataframe[\"Type\"]==\"h\") & \n",
    "          (dataframe[\"Distance\"]<14) &\n",
    "          (dataframe[\"Distance\"]>13.7) \n",
    "          #&(dataframe[\"Suburb\"] ==\"Northcote\")\n",
    "         ].sort_values(\"Date\", ascending=False).dropna().groupby([\"Suburb\",\"SellerG\"]).mean()"
   ]
  },
  {
   "cell_type": "code",
   "execution_count": null,
   "metadata": {
    "_cell_guid": "d9ab96bf-70e8-4a06-8f8f-ef5d4b104a15",
    "_execution_state": "idle",
    "_uuid": "1d16015ecaeb0e95a1d5a53484e4dd3e9e5e17b2",
    "collapsed": true
   },
   "outputs": [],
   "source": [
    "sns.kdeplot(dataframe[(dataframe[\"Suburb\"]==\"Northcote\")\n",
    "         & (dataframe[\"Type\"]==\"u\")\n",
    "         & (dataframe[\"Rooms\"] == 2)][\"Price\"])\n"
   ]
  },
  {
   "cell_type": "code",
   "execution_count": null,
   "metadata": {
    "_cell_guid": "c632367f-3f21-42e2-9f36-98f431030b03",
    "_execution_state": "idle",
    "_uuid": "52c2d1678667a3a41ef501f981307315f1c0f67f",
    "collapsed": true
   },
   "outputs": [],
   "source": [
    "plt.figure(figsize=(20,15))\n",
    "my_axis = sns.kdeplot(dataframe[\"Price\"][((dataframe[\"Type\"]==\"u\") &\n",
    "                                (dataframe[\"Distance\"]>8) &\n",
    "                                (dataframe[\"Distance\"]<10) &\n",
    "                                (dataframe[\"Rooms\"] > 2)#&\n",
    "                                #(dataframe[\"Price\"] < 1000000)\n",
    "                               )])\n",
    "my_axis.axis(xmin=0, xmax=2000000)\n"
   ]
  },
  {
   "cell_type": "code",
   "execution_count": null,
   "metadata": {
    "_cell_guid": "2d71adf5-1d90-44c9-a54a-4f498ff24cf4",
    "_uuid": "4ffdac560d96c206dec4887282d2cc96e91e25f9",
    "collapsed": true
   },
   "outputs": [],
   "source": []
  },
  {
   "cell_type": "code",
   "execution_count": null,
   "metadata": {
    "_cell_guid": "f1bb81a4-8833-4e81-a1eb-efd98bf48c87",
    "_execution_state": "idle",
    "_uuid": "743ae0a8e8d42a42f96547d7f0208dc6c2432dcf",
    "collapsed": true
   },
   "outputs": [],
   "source": [
    "sns.lmplot(\"Distance\",\"Price\",dataframe[(dataframe[\"Rooms\"]<=4) & \n",
    "                                         (dataframe[\"Rooms\"]> 2) & \n",
    "                                        (dataframe[\"Type\"]==\"h\") &\n",
    "                                        (dataframe[\"Price\"]< 1000000)\n",
    "                                       ].dropna(),hue=\"Rooms\", size=10)"
   ]
  },
  {
   "cell_type": "code",
   "execution_count": null,
   "metadata": {
    "_cell_guid": "771656ee-da19-4486-a048-2ec3389e7aa0",
    "_execution_state": "idle",
    "_uuid": "a67728bc7c01ab8d9d916d455c88c75c8828da14",
    "collapsed": true
   },
   "outputs": [],
   "source": [
    "dataframe[(dataframe[\"Rooms\"]>2) & (dataframe[\"Type\"] == \"h\")& (dataframe[\"Landsize\"] <5000)][[\"Landsize\",\"Distance\"]].dropna().groupby(\"Distance\").mean().plot()"
   ]
  },
  {
   "cell_type": "code",
   "execution_count": null,
   "metadata": {
    "_cell_guid": "2cb5143b-bd78-4216-bfb8-ecb33ec577cb",
    "_execution_state": "idle",
    "_uuid": "41f410ef7e33442332584ef3fff60755af507e61",
    "collapsed": true
   },
   "outputs": [],
   "source": [
    "dataframe.columns\n"
   ]
  },
  {
   "cell_type": "code",
   "execution_count": null,
   "metadata": {
    "_cell_guid": "e077d4f8-3f57-40c2-bd55-73f7b56ab24e",
    "_execution_state": "idle",
    "_uuid": "63589483424dd092f0aba7da895c779c99b0ac86",
    "collapsed": true
   },
   "outputs": [],
   "source": [
    "sns.pairplot(dataframe.dropna())"
   ]
  },
  {
   "cell_type": "code",
   "execution_count": null,
   "metadata": {
    "_cell_guid": "cabc9361-daab-40d8-833b-21972f64533a",
    "_execution_state": "idle",
    "_uuid": "0981120e066fbf165a6e0a2e129f98fef02190a0",
    "collapsed": true
   },
   "outputs": [],
   "source": [
    "fig, ax = plt.subplots(figsize=(15,15)) \n",
    "sns.heatmap(dataframe[dataframe[\"Type\"] == \"h\"].corr(), annot=True)"
   ]
  },
  {
   "cell_type": "code",
   "execution_count": null,
   "metadata": {
    "_cell_guid": "fc11e327-0351-49d8-bd79-c466c479418c",
    "_execution_state": "idle",
    "_uuid": "f13d29e0de2f72f6ad931b7a48e63e71bf6e8d9f",
    "collapsed": true
   },
   "outputs": [],
   "source": [
    "from sklearn.cross_validation import train_test_split"
   ]
  },
  {
   "cell_type": "code",
   "execution_count": null,
   "metadata": {
    "_cell_guid": "505d4b29-41cb-4b33-bfa8-f8ac7c7f4b88",
    "_execution_state": "idle",
    "_uuid": "df56de4cc803bf3de2e141ffcb5ce5455720ed82",
    "collapsed": true
   },
   "outputs": [],
   "source": [
    "dataframe_dr = dataframe.dropna().sort_values(\"Date\")"
   ]
  },
  {
   "cell_type": "code",
   "execution_count": null,
   "metadata": {
    "_cell_guid": "7cce78c4-8ed8-44d7-a610-baffd01ddb16",
    "_execution_state": "idle",
    "_uuid": "f2de9575e2f156647204125dd47a741f8f56c658",
    "collapsed": true
   },
   "outputs": [],
   "source": [
    "#dataframe_dr = dataframe_dr[dataframe_dr[\"Type\"]==\"h\"]"
   ]
  },
  {
   "cell_type": "code",
   "execution_count": null,
   "metadata": {
    "_cell_guid": "a66aea91-a532-447a-a18e-0ffa07445d59",
    "_execution_state": "idle",
    "_uuid": "aec86d83e5fcca2f45c8ade015226a27efefee06",
    "collapsed": true
   },
   "outputs": [],
   "source": [
    "dataframe_dr = dataframe_dr"
   ]
  },
  {
   "cell_type": "code",
   "execution_count": null,
   "metadata": {
    "_cell_guid": "e41eea40-837f-42bc-97a0-6afc4b10d971",
    "_execution_state": "idle",
    "_uuid": "60e341eee1976b6f664d84485935651a310bcf23",
    "collapsed": true
   },
   "outputs": [],
   "source": [
    "from datetime import date"
   ]
  },
  {
   "cell_type": "code",
   "execution_count": null,
   "metadata": {
    "_cell_guid": "7b70d0e8-29ff-4c8f-9d00-49b928205026",
    "_execution_state": "idle",
    "_uuid": "c4bf2511709c5c98d21e16e517a8a75cc61530ab",
    "collapsed": true
   },
   "outputs": [],
   "source": [
    "all_Data = []"
   ]
  },
  {
   "cell_type": "code",
   "execution_count": null,
   "metadata": {
    "_cell_guid": "bda8ece3-ade2-4036-8ebf-39d3501fc963",
    "_execution_state": "idle",
    "_uuid": "e6b3ec0ab162c8a00ba0af8d4f1b67e025e3e60d",
    "collapsed": true
   },
   "outputs": [],
   "source": [
    "###########\n",
    "##Find out days since start\n",
    "days_since_start = [(x - dataframe_dr[\"Date\"].min()).days for x in dataframe_dr[\"Date\"]]"
   ]
  },
  {
   "cell_type": "code",
   "execution_count": null,
   "metadata": {
    "_cell_guid": "f1acd466-9257-4e4e-a289-9a0ce7430856",
    "_execution_state": "idle",
    "_uuid": "22098fe3e7152dabd72449ccf91081aa0e79e61c",
    "collapsed": true
   },
   "outputs": [],
   "source": [
    "dataframe_dr[\"Days\"] = days_since_start"
   ]
  },
  {
   "cell_type": "code",
   "execution_count": null,
   "metadata": {
    "_cell_guid": "7c270ca4-7893-4e8d-b9c7-97f9db5678a8",
    "_execution_state": "idle",
    "_uuid": "319766b19d0ede99512818663283e0489774087a",
    "collapsed": true
   },
   "outputs": [],
   "source": [
    "#suburb_dummies = pd.get_dummies(dataframe_dr[[\"Suburb\", \"Type\", \"Method\"]])\n",
    "suburb_dummies = pd.get_dummies(dataframe_dr[[\"Type\", \"Method\"]])\n",
    "#suburb_dummies = pd.get_dummies(dataframe_dr[[ \"Type\"]])\n",
    "#suburb_dummies = pd.get_dummies(dataframe_dr[[\"Suburb\", \"Method\"]])"
   ]
  },
  {
   "cell_type": "code",
   "execution_count": null,
   "metadata": {
    "_cell_guid": "8684adf1-5164-4897-a511-44776ae7232a",
    "_execution_state": "idle",
    "_uuid": "771536adfe51c1a8ff412c495ee22393a80a703e",
    "collapsed": true
   },
   "outputs": [],
   "source": [
    "all_Data = dataframe_dr.drop([\"Address\",\"Price\",\"Date\", \"SellerG\",\"Suburb\",\"Type\",\"Method\",\"CouncilArea\",\"Regionname\"],axis=1).join(suburb_dummies)"
   ]
  },
  {
   "cell_type": "code",
   "execution_count": null,
   "metadata": {
    "_cell_guid": "acde4f67-3e7c-4d3a-85ed-c2d5bb8f7999",
    "_execution_state": "idle",
    "_uuid": "f91d6e046b287445dbb5a2e7dd8699f9f18306be",
    "collapsed": true
   },
   "outputs": [],
   "source": []
  },
  {
   "cell_type": "code",
   "execution_count": null,
   "metadata": {
    "_cell_guid": "1a289ada-3cff-4bf2-a3c3-f6234fdb78b6",
    "_execution_state": "idle",
    "_uuid": "5e5553e05cc91bd7ba65ec48939256f0b7ee8c74",
    "collapsed": true
   },
   "outputs": [],
   "source": [
    "\n"
   ]
  },
  {
   "cell_type": "code",
   "execution_count": null,
   "metadata": {
    "_cell_guid": "19fe9f97-1b91-4d3b-bf6d-8e172e7b6ed7",
    "_execution_state": "idle",
    "_uuid": "63bf1dd7ff4606e26c10efed13b90847136625b0",
    "collapsed": true
   },
   "outputs": [],
   "source": [
    "X = all_Data"
   ]
  },
  {
   "cell_type": "code",
   "execution_count": null,
   "metadata": {
    "_cell_guid": "276674e3-deb1-4950-9695-6df1dff5a5e0",
    "_execution_state": "idle",
    "_uuid": "f255a940b2538fbf76f427f7ef68b51ca962e8dc",
    "collapsed": true
   },
   "outputs": [],
   "source": [
    "y = dataframe_dr[\"Price\"]"
   ]
  },
  {
   "cell_type": "code",
   "execution_count": null,
   "metadata": {
    "_cell_guid": "36b95e04-e258-427b-befb-3e99bac371b0",
    "_execution_state": "idle",
    "_uuid": "3e28930e76dd30f2f5710e11565f6de2ccc63a2b",
    "collapsed": true
   },
   "outputs": [],
   "source": [
    "X_train, X_test, y_train, y_test = train_test_split(X, y, test_size=0.4)"
   ]
  },
  {
   "cell_type": "code",
   "execution_count": null,
   "metadata": {
    "_cell_guid": "c895e320-4279-43f0-bafc-995424b7388d",
    "_execution_state": "idle",
    "_uuid": "c440bb2218163312281cf6f3024e753c6125cdd0",
    "collapsed": true
   },
   "outputs": [],
   "source": []
  },
  {
   "cell_type": "code",
   "execution_count": null,
   "metadata": {
    "_cell_guid": "b4b1736b-49bb-4322-ad94-fe8616ecdb9a",
    "_execution_state": "idle",
    "_uuid": "a1f455c8d59c807d599ccc895a59386f70b2b5b0",
    "collapsed": true
   },
   "outputs": [],
   "source": [
    "from sklearn.linear_model import LinearRegression"
   ]
  },
  {
   "cell_type": "code",
   "execution_count": null,
   "metadata": {
    "_cell_guid": "58992363-7e4f-47d5-9182-a9aa3debf237",
    "_execution_state": "idle",
    "_uuid": "588cf7854100c8e46fa9bdf3a27e4b06a20144bf",
    "collapsed": true
   },
   "outputs": [],
   "source": [
    "lm = LinearRegression()"
   ]
  },
  {
   "cell_type": "code",
   "execution_count": null,
   "metadata": {
    "_cell_guid": "6b1a8abb-1f5c-415f-b1c3-1c99fc7aa47c",
    "_execution_state": "idle",
    "_uuid": "ff980b4375f453aded60c65e2b1ecf5b15074196",
    "collapsed": true
   },
   "outputs": [],
   "source": [
    "lm.fit(X_train,y_train)"
   ]
  },
  {
   "cell_type": "raw",
   "metadata": {
    "_cell_guid": "88a502aa-4b6a-494d-8cab-99a647d0f852",
    "_uuid": "e199d92ddca98e044099f5609cc64d69e252d017"
   },
   "source": [
    "###### "
   ]
  },
  {
   "cell_type": "code",
   "execution_count": null,
   "metadata": {
    "_cell_guid": "d3176f1c-f644-476a-addc-71400cda9d8c",
    "_execution_state": "idle",
    "_uuid": "075fc9b2e8c420ef2c510e4205801cb3ef734d66",
    "collapsed": true
   },
   "outputs": [],
   "source": [
    "print(lm.intercept_)"
   ]
  },
  {
   "cell_type": "code",
   "execution_count": null,
   "metadata": {
    "_cell_guid": "e6ced185-b92a-4be8-8858-d7475e6c8f02",
    "_execution_state": "idle",
    "_uuid": "3e3e75e5db39462a687ec7732582cc837d169e28",
    "collapsed": true
   },
   "outputs": [],
   "source": [
    "X.columns"
   ]
  },
  {
   "cell_type": "code",
   "execution_count": null,
   "metadata": {
    "_cell_guid": "8b85b36f-bd90-41f3-87e0-6e7347316b10",
    "_execution_state": "idle",
    "_uuid": "0d24fc12890a8c9154f51c81202722f0d7154fc2",
    "collapsed": true
   },
   "outputs": [],
   "source": [
    "coeff_df = pd.DataFrame(lm.coef_,X.columns,columns=['Coefficient'])\n",
    "ranked_suburbs = coeff_df.sort_values(\"Coefficient\", ascending = False)\n",
    "ranked_suburbs"
   ]
  },
  {
   "cell_type": "code",
   "execution_count": null,
   "metadata": {
    "_cell_guid": "5b9e1ebe-ca82-4021-aa3d-f9d2a11275f0",
    "_execution_state": "idle",
    "_uuid": "3cb15ed577d811a6619e4ea0e246b649af9c387a",
    "collapsed": true
   },
   "outputs": [],
   "source": [
    "predictions = lm.predict(X_test)"
   ]
  },
  {
   "cell_type": "code",
   "execution_count": null,
   "metadata": {
    "_cell_guid": "614fb8c4-ab00-4b25-aa72-2b8ae9c12ccb",
    "_execution_state": "idle",
    "_uuid": "68a551619ad73e56a88229b359163a8c8b50b0aa",
    "collapsed": true
   },
   "outputs": [],
   "source": [
    "\n",
    "plt.scatter(y_test, predictions)\n",
    "plt.ylim([200000,1000000])\n",
    "plt.xlim([200000,1000000])"
   ]
  },
  {
   "cell_type": "code",
   "execution_count": null,
   "metadata": {
    "_cell_guid": "da97bd38-67cb-4190-9ded-43fd0bb0f9c2",
    "_execution_state": "idle",
    "_uuid": "8cd9bb33a2425932cb897546925bb89a730376b4",
    "collapsed": true
   },
   "outputs": [],
   "source": [
    "sns.distplot((y_test-predictions),bins=50)"
   ]
  },
  {
   "cell_type": "code",
   "execution_count": null,
   "metadata": {
    "_cell_guid": "35208425-cca1-47f1-86f5-5e094537000f",
    "_execution_state": "idle",
    "_uuid": "c0f0068c49de97b5ac9264e38960531b02283ca8",
    "collapsed": true
   },
   "outputs": [],
   "source": [
    "from sklearn import metrics"
   ]
  },
  {
   "cell_type": "code",
   "execution_count": null,
   "metadata": {
    "_cell_guid": "7ba73f9b-57ac-4483-aa62-23db88828ea4",
    "_execution_state": "idle",
    "_uuid": "55d5a47da65c59379cc4cd2daef2276da5ffa96b",
    "collapsed": true
   },
   "outputs": [],
   "source": [
    "print(\"MAE:\", metrics.mean_absolute_error(y_test, predictions))\n",
    "print('MSE:', metrics.mean_squared_error(y_test, predictions))\n",
    "print('RMSE:', np.sqrt(metrics.mean_squared_error(y_test, predictions)))"
   ]
  },
  {
   "cell_type": "code",
   "execution_count": null,
   "metadata": {
    "_cell_guid": "7e968fa4-b7a3-4f74-8cba-e7a6834bb0ba",
    "_execution_state": "idle",
    "_uuid": "c7e05a1adc407b155ce445020dfb258b22a499ff",
    "collapsed": true
   },
   "outputs": [],
   "source": []
  }
 ],
 "metadata": {
  "anaconda-cloud": {},
  "kernelspec": {
   "display_name": "Python 3",
   "language": "python",
   "name": "python3"
  },
  "language_info": {
   "codemirror_mode": {
    "name": "ipython",
    "version": 3
   },
   "file_extension": ".py",
   "mimetype": "text/x-python",
   "name": "python",
   "nbconvert_exporter": "python",
   "pygments_lexer": "ipython3",
   "version": "3.6.5"
  }
 },
 "nbformat": 4,
 "nbformat_minor": 1
}
